{
 "cells": [
  {
   "cell_type": "code",
   "execution_count": null,
   "id": "ae8564ec-8514-4cdf-b1cb-ae4f407b5539",
   "metadata": {},
   "outputs": [],
   "source": [
    "import pandas\n",
    "import dask\n",
    "import dask.array as da\n",
    "import distributed\n",
    "from distributed import span, wait\n",
    "from distributed.metrics import meter\n",
    "\n",
    "pandas.set_option('display.max_rows', 500)\n",
    "dask.config.set({\"optimization.fuse.active\": False})\n",
    "\n",
    "client = distributed.Client(n_workers=6, threads_per_worker=2)\n",
    "\n",
    "with span(\"gen_data\"):\n",
    "    a = da.random.random((2**15, 2**15), chunks=(\"auto\", -1))\n",
    "    a = a.persist()\n",
    "    wait(a)\n",
    "\n",
    "a"
   ]
  },
  {
   "cell_type": "code",
   "execution_count": null,
   "id": "19cabde5-1ce0-4b86-b077-1102d0529b3e",
   "metadata": {},
   "outputs": [],
   "source": [
    "with meter() as m, span(\"rechunk\"):\n",
    "    a = a.rechunk((-1, \"auto\"), method=\"p2p\")\n",
    "    a = a.persist()\n",
    "    wait(a)"
   ]
  },
  {
   "cell_type": "code",
   "execution_count": null,
   "id": "bc3a14ab-dfbe-4935-ab6b-b4bccd408834",
   "metadata": {},
   "outputs": [],
   "source": [
    "metrics = client.cluster.scheduler.cumulative_worker_metrics"
   ]
  },
  {
   "cell_type": "code",
   "execution_count": null,
   "id": "71f179c7-e869-45d6-aedf-bc756b1d8c6e",
   "metadata": {},
   "outputs": [],
   "source": [
    "pandas.Series(\n",
    "    {\n",
    "        k: v\n",
    "        for k, v in metrics.items()\n",
    "        if isinstance(k, tuple) \n",
    "        and k[0] in (\"execute\", \"p2p\")\n",
    "    }\n",
    ").sort_index()"
   ]
  },
  {
   "cell_type": "code",
   "execution_count": null,
   "id": "4e2e5959-e357-422e-9eaa-02bfaf1ce6eb",
   "metadata": {},
   "outputs": [],
   "source": [
    "spans_ext = client.cluster.scheduler.extensions[\"spans\"]\n",
    "span, = spans_ext.find_by_tags(\"rechunk\")\n",
    "s = pandas.Series(\n",
    "    span.cumulative_worker_metrics\n",
    ").sort_index()\n",
    "s"
   ]
  },
  {
   "cell_type": "code",
   "execution_count": null,
   "id": "2dd624ea-2611-48b7-b9d3-7945a824826f",
   "metadata": {},
   "outputs": [],
   "source": [
    "# Average shard size\n",
    "metrics[\"execute\", \"rechunk-transfer\", \"p2p-shards\", \"bytes\"] / metrics[\"execute\", \"rechunk-transfer\", \"p2p-shards\", \"count\"]"
   ]
  },
  {
   "cell_type": "code",
   "execution_count": null,
   "id": "d810d2ec-aeba-4863-a2ad-a5eb640f680b",
   "metadata": {},
   "outputs": [],
   "source": [
    "print(\"Client end-to-end time\", m.delta)"
   ]
  },
  {
   "cell_type": "code",
   "execution_count": null,
   "id": "5f8c9708-6b83-46c8-a110-838580ce2a8e",
   "metadata": {},
   "outputs": [],
   "source": [
    "s2 = s.reset_index()\n",
    "s2 = s2[s2.level_3 == \"seconds\"]\n",
    "del s2[\"level_2\"]\n",
    "del s2[\"level_3\"]\n",
    "s2.groupby([\"level_0\", \"level_1\"]).sum()"
   ]
  },
  {
   "cell_type": "code",
   "execution_count": null,
   "id": "5849dc7c-511c-43ec-95a0-4e6912da5809",
   "metadata": {},
   "outputs": [],
   "source": []
  }
 ],
 "metadata": {
  "kernelspec": {
   "display_name": "Python 3 (ipykernel)",
   "language": "python",
   "name": "python3"
  },
  "language_info": {
   "codemirror_mode": {
    "name": "ipython",
    "version": 3
   },
   "file_extension": ".py",
   "mimetype": "text/x-python",
   "name": "python",
   "nbconvert_exporter": "python",
   "pygments_lexer": "ipython3",
   "version": "3.9.18"
  }
 },
 "nbformat": 4,
 "nbformat_minor": 5
}
